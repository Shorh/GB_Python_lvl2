{
 "cells": [
  {
   "cell_type": "markdown",
   "metadata": {},
   "source": [
    "# Практическое задание №1"
   ]
  },
  {
   "cell_type": "markdown",
   "metadata": {},
   "source": [
    "1. Каждое из слов «разработка», «сокет», «декоратор» представить в строковом формате и проверить тип и содержание соответствующих переменных. Затем с помощью онлайн-конвертера преобразовать строковые представление в формат Unicode и также проверить тип и содержимое переменных."
   ]
  },
  {
   "cell_type": "code",
   "execution_count": 2,
   "metadata": {},
   "outputs": [
    {
     "name": "stdout",
     "output_type": "stream",
     "text": [
      "Содержимое: разработка. Тип: <class 'str'>\n",
      "Содержимое: сокет. Тип: <class 'str'>\n",
      "Содержимое: декоратор. Тип: <class 'str'>\n"
     ]
    }
   ],
   "source": [
    "data = ['разработка', 'сокет', 'декоратор']\n",
    "\n",
    "for word in data:\n",
    "    print(f'Содержимое: {word}. Тип: {type(word)}')"
   ]
  },
  {
   "cell_type": "code",
   "execution_count": 3,
   "metadata": {},
   "outputs": [
    {
     "name": "stdout",
     "output_type": "stream",
     "text": [
      "Содержимое: разработка. Тип: <class 'str'>\n",
      "Содержимое: сокет. Тип: <class 'str'>\n",
      "Содержимое: декоратор. Тип: <class 'str'>\n"
     ]
    }
   ],
   "source": [
    "udata = ['\\u0440\\u0430\\u0437\\u0440\\u0430\\u0431\\u043e\\u0442\\u043a\\u0430',\n",
    "        '\\u0441\\u043e\\u043a\\u0435\\u0442',\n",
    "        '\\u0434\\u0435\\u043a\\u043e\\u0440\\u0430\\u0442\\u043e\\u0440']\n",
    "\n",
    "for uword in udata:\n",
    "    print(f'Содержимое: {uword}. Тип: {type(uword)}')"
   ]
  },
  {
   "cell_type": "markdown",
   "metadata": {},
   "source": [
    "2. Каждое из слов «class», «function», «method» записать в байтовом типе без преобразования в последовательность кодов (не используя методы encode и decode) и определить тип, содержимое и длину соответствующих переменных."
   ]
  },
  {
   "cell_type": "code",
   "execution_count": 4,
   "metadata": {},
   "outputs": [
    {
     "name": "stdout",
     "output_type": "stream",
     "text": [
      "Содержимое: b'class'. Тип: <class 'bytes'>. Длина: 5\n",
      "Содержимое: b'function'. Тип: <class 'bytes'>. Длина: 8\n",
      "Содержимое: b'method'. Тип: <class 'bytes'>. Длина: 6\n"
     ]
    }
   ],
   "source": [
    "data = [b'class', b'function', b'method']\n",
    "\n",
    "for word in data:\n",
    "    print(f'Содержимое: {word}. Тип: {type(word)}. Длина: {len(word)}')"
   ]
  },
  {
   "cell_type": "markdown",
   "metadata": {},
   "source": [
    "3. Определить, какие из слов «attribute», «класс», «функция», «type» невозможно записать в байтовом типе."
   ]
  },
  {
   "cell_type": "code",
   "execution_count": 15,
   "metadata": {},
   "outputs": [
    {
     "name": "stdout",
     "output_type": "stream",
     "text": [
      "Слово \"класс\" нельзя записать в байтовом типе\n",
      "Слово \"функция\" нельзя записать в байтовом типе\n"
     ]
    }
   ],
   "source": [
    "try:\n",
    "    eval(\"b'attribute'\")\n",
    "except SyntaxError:\n",
    "    print('Слово \"attribute\" нельзя записать в байтовом типе')\n",
    "\n",
    "try:\n",
    "    eval(\"b'класс'\")\n",
    "except SyntaxError:\n",
    "    print('Слово \"класс\" нельзя записать в байтовом типе')\n",
    "\n",
    "try:\n",
    "    eval(\"b'функция'\")\n",
    "except SyntaxError:\n",
    "    print('Слово \"функция\" нельзя записать в байтовом типе')\n",
    "\n",
    "try:\n",
    "    eval(\"b'type'\")\n",
    "except SyntaxError:\n",
    "    print('Слово \"type\" нельзя записать в байтовом типе')"
   ]
  },
  {
   "cell_type": "markdown",
   "metadata": {},
   "source": [
    "4. Преобразовать слова «разработка», «администрирование», «protocol», «standard» из строкового представления в байтовое и выполнить обратное преобразование (используя методы encode и decode)."
   ]
  },
  {
   "cell_type": "code",
   "execution_count": 6,
   "metadata": {},
   "outputs": [
    {
     "name": "stdout",
     "output_type": "stream",
     "text": [
      "encode:\n",
      "Содержимое: b'\\xd1\\x80\\xd0\\xb0\\xd0\\xb7\\xd1\\x80\\xd0\\xb0\\xd0\\xb1\\xd0\\xbe\\xd1\\x82\\xd0\\xba\\xd0\\xb0'. Тип: <class 'bytes'>\n",
      "Содержимое: b'\\xd0\\xb0\\xd0\\xb4\\xd0\\xbc\\xd0\\xb8\\xd0\\xbd\\xd0\\xb8\\xd1\\x81\\xd1\\x82\\xd1\\x80\\xd0\\xb8\\xd1\\x80\\xd0\\xbe\\xd0\\xb2\\xd0\\xb0\\xd0\\xbd\\xd0\\xb8\\xd0\\xb5'. Тип: <class 'bytes'>\n",
      "Содержимое: b'protocol'. Тип: <class 'bytes'>\n",
      "Содержимое: b'standard'. Тип: <class 'bytes'>\n",
      "\n",
      "decode:\n",
      "Содержимое: разработка. Тип: <class 'str'>\n",
      "Содержимое: администрирование. Тип: <class 'str'>\n",
      "Содержимое: protocol. Тип: <class 'str'>\n",
      "Содержимое: standard. Тип: <class 'str'>\n"
     ]
    }
   ],
   "source": [
    "data = ['разработка', 'администрирование', 'protocol', 'standard']\n",
    "\n",
    "bdata = []\n",
    "\n",
    "print('encode:')\n",
    "for word in data:\n",
    "    bstr = word.encode('utf-8')\n",
    "    bdata.append(bstr)\n",
    "    print(f'Содержимое: {bstr}. Тип: {type(bstr)}')\n",
    "    \n",
    "print('\\ndecode:')\n",
    "for bword in bdata:\n",
    "    string = bword.decode('utf-8')\n",
    "    print(f'Содержимое: {string}. Тип: {type(string)}')"
   ]
  },
  {
   "cell_type": "markdown",
   "metadata": {},
   "source": [
    "5. Выполнить пинг веб-ресурсов yandex.ru, youtube.com и преобразовать результаты из байтовового в строковый тип на кириллице."
   ]
  },
  {
   "cell_type": "code",
   "execution_count": 17,
   "metadata": {},
   "outputs": [
    {
     "name": "stdout",
     "output_type": "stream",
     "text": [
      "PING yandex.ru (77.88.55.88): 56 data bytes\n",
      "\n",
      "64 bytes from 77.88.55.88: icmp_seq=0 ttl=54 time=73.508 ms\n",
      "\n",
      "64 bytes from 77.88.55.88: icmp_seq=1 ttl=54 time=35.125 ms\n",
      "\n",
      "64 bytes from 77.88.55.88: icmp_seq=2 ttl=54 time=35.794 ms\n",
      "\n",
      "64 bytes from 77.88.55.88: icmp_seq=3 ttl=54 time=35.169 ms\n",
      "\n",
      "\n",
      "\n",
      "--- yandex.ru ping statistics ---\n",
      "\n",
      "4 packets transmitted, 4 packets received, 0.0% packet loss\n",
      "\n",
      "round-trip min/avg/max/stddev = 35.125/44.899/73.508/16.520 ms\n",
      "\n",
      " *  *  *  *  *  *  *  *  *  *  *  *  *  *  *  *  *  *  *  * \n",
      "PING youtube.com (173.194.44.68): 56 data bytes\n",
      "\n",
      "64 bytes from 173.194.44.68: icmp_seq=0 ttl=115 time=41.366 ms\n",
      "\n",
      "64 bytes from 173.194.44.68: icmp_seq=1 ttl=115 time=33.803 ms\n",
      "\n",
      "64 bytes from 173.194.44.68: icmp_seq=2 ttl=115 time=30.598 ms\n",
      "\n",
      "64 bytes from 173.194.44.68: icmp_seq=3 ttl=115 time=40.392 ms\n",
      "\n",
      "\n",
      "\n",
      "--- youtube.com ping statistics ---\n",
      "\n",
      "4 packets transmitted, 4 packets received, 0.0% packet loss\n",
      "\n",
      "round-trip min/avg/max/stddev = 30.598/36.540/41.366/4.498 ms\n",
      "\n",
      " *  *  *  *  *  *  *  *  *  *  *  *  *  *  *  *  *  *  *  * \n"
     ]
    }
   ],
   "source": [
    "import subprocess\n",
    "\n",
    "args = [['ping', '-c', '4', 'yandex.ru'],\n",
    "       ['ping', '-c', '4', 'youtube.com']]\n",
    "for line in args:\n",
    "    subproc_ping = subprocess.Popen(line, stdout=subprocess.PIPE)\n",
    "    \n",
    "    for line in subproc_ping.stdout: \n",
    "        print(line.decode('utf-8'))\n",
    "    print(' * '*20)"
   ]
  },
  {
   "cell_type": "markdown",
   "metadata": {},
   "source": [
    "6. Создать текстовый файл test_file.txt, заполнить его тремя строками: «сетевое программирование», «сокет», «декоратор». Проверить кодировку файла по умолчанию. Принудительно открыть файл в формате Unicode и вывести его содержимое."
   ]
  },
  {
   "cell_type": "code",
   "execution_count": 8,
   "metadata": {},
   "outputs": [
    {
     "name": "stdout",
     "output_type": "stream",
     "text": [
      "Кодировка файла: UTF-8\n"
     ]
    }
   ],
   "source": [
    "fin = open('test_file.txt', 'w')\n",
    "\n",
    "fin.write('сетевое программирование\\n')\n",
    "fin.write('сокет\\n')\n",
    "fin.write('декоратор')\n",
    "\n",
    "fin.close()\n",
    "\n",
    "print(f'Кодировка файла: {fin.encoding}')"
   ]
  },
  {
   "cell_type": "code",
   "execution_count": 9,
   "metadata": {},
   "outputs": [
    {
     "name": "stdout",
     "output_type": "stream",
     "text": [
      "сетевое программирование\n",
      "\n",
      "сокет\n",
      "\n",
      "декоратор\n"
     ]
    }
   ],
   "source": [
    "with open('test_file.txt', encoding='utf-8') as fout:\n",
    "    for line in fout:\n",
    "        print(line)"
   ]
  },
  {
   "cell_type": "code",
   "execution_count": null,
   "metadata": {},
   "outputs": [],
   "source": []
  }
 ],
 "metadata": {
  "kernelspec": {
   "display_name": "Python 3",
   "language": "python",
   "name": "python3"
  },
  "language_info": {
   "codemirror_mode": {
    "name": "ipython",
    "version": 3
   },
   "file_extension": ".py",
   "mimetype": "text/x-python",
   "name": "python",
   "nbconvert_exporter": "python",
   "pygments_lexer": "ipython3",
   "version": "3.7.2"
  }
 },
 "nbformat": 4,
 "nbformat_minor": 2
}
