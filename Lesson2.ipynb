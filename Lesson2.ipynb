{
 "cells": [
  {
   "cell_type": "code",
   "execution_count": 58,
   "metadata": {},
   "outputs": [],
   "source": [
    "import os\n",
    "import re"
   ]
  },
  {
   "cell_type": "code",
   "execution_count": 2,
   "metadata": {},
   "outputs": [],
   "source": [
    "folder = '/Users/ghost/PycharmProjects/GeekBrains/Python_lessons_advanced/data/'"
   ]
  },
  {
   "cell_type": "markdown",
   "metadata": {},
   "source": [
    "# Практическое задание №2\n",
    "\n",
    "## Задание на закрепление знаний по модулю CSV  \n",
    "Написать скрипт, осуществляющий выборку определенных данных из файлов info_1.txt, info_2.txt, info_3.txt и формирующий новый «отчетный» файл в формате CSV. Для этого: \n",
    "  \n",
    "- Создать функцию get_data(), в которой в цикле осуществляется перебор файлов с данными, их открытие и считывание данных. В этой функции из считанных данных необходимо с помощью регулярных выражений извлечь значения параметров «Изготовитель системы», «Название ОС», «Код продукта», «Тип системы». Значения каждого параметра поместить в соответствующий список. Должно получиться четыре списка — например, os_prod_list, os_name_list, os_code_list, os_type_list. В этой же функции создать главный список для хранения данных отчета — например, main_data — и поместить в него названия столбцов отчета в виде списка: «Изготовитель системы», «Название ОС», «Код продукта», «Тип системы». Значения для этих столбцов также оформить в виде списка и поместить в файл main_data (также для каждого файла);"
   ]
  },
  {
   "cell_type": "code",
   "execution_count": 56,
   "metadata": {},
   "outputs": [],
   "source": [
    "import csv"
   ]
  },
  {
   "cell_type": "code",
   "execution_count": 3,
   "metadata": {},
   "outputs": [],
   "source": [
    "def get_data():\n",
    "    fields = ['Изготовитель системы', 'Название ОС', 'Код продукта', 'Тип системы']\n",
    "    os_list = [[], [], [], []]\n",
    "    main_data = []\n",
    "    \n",
    "    main_data.append(fields)\n",
    "    \n",
    "    for i in range(1, 4):\n",
    "        file_name = \"ls2_info_\" + str(i) + '.txt'\n",
    "        path = os.path.join(folder, file_name)\n",
    "        \n",
    "        with open(path, encoding='windows 1251') as file:\n",
    "            for line in file:\n",
    "                result = re.split(r':\\s+|\\n', line)\n",
    "                if result[0] in fields:\n",
    "                    os_list[fields.index(result[0])].append(result[1])\n",
    "                    \n",
    "    for j in range(len(os_list[0])):\n",
    "        lst = []\n",
    "        for i in range(len(os_list)):\n",
    "            lst.append(os_list[i][j])\n",
    "        main_data.append(lst)\n",
    "        \n",
    "    return main_data"
   ]
  },
  {
   "cell_type": "markdown",
   "metadata": {},
   "source": [
    "- Создать функцию write_to_csv(), в которую передавать ссылку на CSV-файл. В этой функции реализовать получение данных через вызов функции get_data(), а также сохранение подготовленных данных в соответствующий CSV-файл;"
   ]
  },
  {
   "cell_type": "code",
   "execution_count": 4,
   "metadata": {},
   "outputs": [],
   "source": [
    "def write_to_csv(path):\n",
    "    data = get_data()\n",
    "    with open(path, 'w') as file:\n",
    "        writer = csv.writer(file)\n",
    "        for row in data:\n",
    "            writer.writerow(row)        "
   ]
  },
  {
   "cell_type": "markdown",
   "metadata": {},
   "source": [
    "- Проверить работу программы через вызов функции write_to_csv()."
   ]
  },
  {
   "cell_type": "code",
   "execution_count": 5,
   "metadata": {},
   "outputs": [
    {
     "name": "stdout",
     "output_type": "stream",
     "text": [
      "['Изготовитель системы', 'Название ОС', 'Код продукта', 'Тип системы']\n",
      "['LENOVO', 'Microsoft Windows 7 Профессиональная ', '00971-OEM-1982661-00231', 'x64-based PC']\n",
      "['ACER', 'Microsoft Windows 10 Professional', '00971-OEM-1982661-00231', 'x64-based PC']\n",
      "['DELL', 'Microsoft Windows 8.1 Professional', '00971-OEM-1982661-00231', 'x86-based PC']\n"
     ]
    }
   ],
   "source": [
    "path = os.path.join(folder, 'ls2_task1.csv')\n",
    "\n",
    "write_to_csv(path)\n",
    "\n",
    "with open(path) as file:\n",
    "    reader = csv.reader(file)\n",
    "    for row in reader:\n",
    "        print(row)"
   ]
  },
  {
   "cell_type": "markdown",
   "metadata": {},
   "source": [
    "## Задание на закрепление знаний по модулю json  \n",
    "Есть файл orders в формате JSON с информацией о заказах. Написать скрипт, автоматизирующий его заполнение данными. Для этого:  \n",
    "  \n",
    "- Создать функцию write_order_to_json(), в которую передается 5 параметров — товар (item), количество (quantity), цена (price), покупатель (buyer), дата (date). Функция должна предусматривать запись данных в виде словаря в файл orders.json. При записи данных указать величину отступа в 4 пробельных символа;"
   ]
  },
  {
   "cell_type": "code",
   "execution_count": 57,
   "metadata": {},
   "outputs": [],
   "source": [
    "import json"
   ]
  },
  {
   "cell_type": "code",
   "execution_count": 50,
   "metadata": {},
   "outputs": [],
   "source": [
    "def write_order_to_json(item, quantity, price, buyer, date):\n",
    "    data = {\n",
    "            'item': item,\n",
    "            'quantity': quantity,\n",
    "            'price': price,\n",
    "            'buyer': buyer,\n",
    "            'date': date\n",
    "        }\n",
    "    \n",
    "    path = os.path.join(folder, 'ls2_orders.json')\n",
    "    \n",
    "    with open(path, 'r+') as file:\n",
    "        jsn = json.load(file)\n",
    "        jsn['orders'].append(data)\n",
    "        \n",
    "        file.seek(0)\n",
    "        json.dump(jsn, file, indent=4)"
   ]
  },
  {
   "cell_type": "markdown",
   "metadata": {},
   "source": [
    "- Проверить работу программы через вызов функции write_order_to_json() с передачей в нее значений каждого параметра."
   ]
  },
  {
   "cell_type": "code",
   "execution_count": 52,
   "metadata": {},
   "outputs": [],
   "source": [
    "data = [\n",
    "    ['Book', '1', '1000', 'Shorh', '01.01.2019'],\n",
    "    ['Book', '2', '1000', 'Shorh', '01.01.2019'],\n",
    "    ['Book', '3', '1000', 'Shorh', '01.01.2019'],\n",
    "]\n",
    "\n",
    "for line in data:\n",
    "    write_order_to_json(*line)"
   ]
  },
  {
   "cell_type": "markdown",
   "metadata": {},
   "source": [
    "## Задание на закрепление знаний по модулю yaml  \n",
    "Написать скрипт, автоматизирующий сохранение данных в файле YAML-формата. Для этого:  \n",
    "  \n",
    "- Подготовить данные для записи в виде словаря, в котором первому ключу соответствует список, второму — целое число, третьему — вложенный словарь, где значение каждого ключа — это целое число с юникод-символом, отсутствующим в кодировке ASCII (например, €);"
   ]
  },
  {
   "cell_type": "code",
   "execution_count": 59,
   "metadata": {},
   "outputs": [],
   "source": [
    "import yaml"
   ]
  },
  {
   "cell_type": "code",
   "execution_count": 60,
   "metadata": {},
   "outputs": [],
   "source": [
    "data = {\n",
    "    'attr1': [\n",
    "        'value1.1',\n",
    "        'value1.2',\n",
    "        'value1.3'\n",
    "    ],\n",
    "    'attr2': 123,\n",
    "    'attr3': {\n",
    "        'attr3.1': '€',\n",
    "        'attr3.2': '€',\n",
    "        'attr3.3': '€'\n",
    "    }\n",
    "}"
   ]
  },
  {
   "cell_type": "markdown",
   "metadata": {},
   "source": [
    "- Реализовать сохранение данных в файл формата YAML — например, в файл file.yaml. При этом обеспечить стилизацию файла с помощью параметра default_flow_style, а также установить возможность работы с юникодом: allow_unicode = True;"
   ]
  },
  {
   "cell_type": "code",
   "execution_count": 61,
   "metadata": {},
   "outputs": [],
   "source": [
    "path = os.path.join(folder, 'ls2_file.yaml')\n",
    "\n",
    "with open(path, 'w') as file:\n",
    "    yaml.dump(data, file, Dumper=yaml.Dumper, default_flow_style=False, allow_unicode=True)"
   ]
  },
  {
   "cell_type": "markdown",
   "metadata": {},
   "source": [
    "- Реализовать считывание данных из созданного файла и проверить, совпадают ли они с исходными."
   ]
  },
  {
   "cell_type": "code",
   "execution_count": 69,
   "metadata": {},
   "outputs": [
    {
     "name": "stdout",
     "output_type": "stream",
     "text": [
      "yaml_data == data? True\n",
      "data is \t{'attr1': ['value1.1', 'value1.2', 'value1.3'], 'attr2': 123, 'attr3': {'attr3.1': '€', 'attr3.2': '€', 'attr3.3': '€'}}\n",
      "yaml_data is \t{'attr1': ['value1.1', 'value1.2', 'value1.3'], 'attr2': 123, 'attr3': {'attr3.1': '€', 'attr3.2': '€', 'attr3.3': '€'}}\n"
     ]
    }
   ],
   "source": [
    "with open(path, 'r') as file:\n",
    "    yaml_data = yaml.load(file, Loader=yaml.Loader)\n",
    "    \n",
    "print(f'yaml_data == data? {yaml_data == data}')\n",
    "print(f'data is \\t{data}')\n",
    "print(f'yaml_data is \\t{yaml_data}')"
   ]
  },
  {
   "cell_type": "code",
   "execution_count": null,
   "metadata": {},
   "outputs": [],
   "source": []
  }
 ],
 "metadata": {
  "kernelspec": {
   "display_name": "GB_Python_lvl2",
   "language": "python",
   "name": "gb_python_lvl2"
  },
  "language_info": {
   "codemirror_mode": {
    "name": "ipython",
    "version": 3
   },
   "file_extension": ".py",
   "mimetype": "text/x-python",
   "name": "python",
   "nbconvert_exporter": "python",
   "pygments_lexer": "ipython3",
   "version": "3.7.2"
  }
 },
 "nbformat": 4,
 "nbformat_minor": 2
}
